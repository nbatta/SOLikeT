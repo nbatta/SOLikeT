{
 "cells": [
  {
   "cell_type": "code",
   "execution_count": 1,
   "metadata": {},
   "outputs": [],
   "source": [
    "import numpy as np\n",
    "import cobaya\n",
    "\n",
    "fiducial_params = {\n",
    "    \"ombh2\": 0.02225,\n",
    "    \"omch2\": 0.1198,\n",
    "    \"H0\": 67.3,\n",
    "    \"tau\": 0.06,\n",
    "    \"As\": 2.2e-9,\n",
    "    \"ns\": 0.96,\n",
    "    \"mnu\": 0.06,\n",
    "    \"nnu\": 3.046,\n",
    "    \"num_massive_neutrinos\": 3,\n",
    "    }\n",
    "\n",
    "#fiducial_params = {'omch2': 0.125,     FOR Testing against NEMO\n",
    "#                    'ombh2': 0.02225,\n",
    "#                    'H0': 70.,\n",
    "#                    'ns': 0.95,\n",
    "#                    'As': 1.88e-9,\n",
    "#                    'mnu': 0.0,\n",
    "#                    'tau': 0.06,\n",
    "#                    'nnu': 3.046,\n",
    "#                    'num_massive_neutrinos':0}\n",
    "\n",
    "info_fiducial = {\n",
    "    \"params\": fiducial_params,\n",
    "    \"likelihood\": {\"solike.ClusterLikelihood\": {\"stop_at_error\": True,}},\n",
    "    \"theory\": {\n",
    "        \"camb\": {\n",
    "            \"extra_args\": {\n",
    "                \"accurate_massive_neutrino_transfers\": True,\n",
    "                \"redshifts\": np.linspace(0, 2, 41),\n",
    "                \"nonlinear\": False,\n",
    "                \"kmax\": 10.0,\n",
    "                \"dark_energy_model\": \"ppf\",\n",
    "            }\n",
    "        }\n",
    "    },\n",
    "    'modules': '/Users/nab/Repos/cobaya_modules/'\n",
    "}"
   ]
  },
  {
   "cell_type": "code",
   "execution_count": 2,
   "metadata": {},
   "outputs": [
    {
     "name": "stdout",
     "output_type": "stream",
     "text": [
      "[prior] *WARNING* No sampled parameters requested! This will fail for non-mock samplers.\n",
      "[camb] Importing *local* CAMB from /Users/nab/Repos/cobaya_modules/code/CAMB\n",
      "mock catalog\n"
     ]
    },
    {
     "ename": "NameError",
     "evalue": "name 'H0' is not defined",
     "output_type": "error",
     "traceback": [
      "\u001b[0;31m---------------------------------------------------------------------------\u001b[0m",
      "\u001b[0;31mNameError\u001b[0m                                 Traceback (most recent call last)",
      "\u001b[0;32m<ipython-input-2-49a48604c6ac>\u001b[0m in \u001b[0;36m<module>\u001b[0;34m\u001b[0m\n\u001b[1;32m      3\u001b[0m \u001b[0mmodel_fiducial\u001b[0m \u001b[0;34m=\u001b[0m \u001b[0mget_model\u001b[0m\u001b[0;34m(\u001b[0m\u001b[0minfo_fiducial\u001b[0m\u001b[0;34m)\u001b[0m\u001b[0;34m\u001b[0m\u001b[0;34m\u001b[0m\u001b[0m\n\u001b[1;32m      4\u001b[0m \u001b[0;34m\u001b[0m\u001b[0m\n\u001b[0;32m----> 5\u001b[0;31m \u001b[0mlnl\u001b[0m \u001b[0;34m=\u001b[0m \u001b[0mmodel_fiducial\u001b[0m\u001b[0;34m.\u001b[0m\u001b[0mloglikes\u001b[0m\u001b[0;34m(\u001b[0m\u001b[0;34m{\u001b[0m\u001b[0;34m}\u001b[0m\u001b[0;34m)\u001b[0m\u001b[0;34m[\u001b[0m\u001b[0;36m0\u001b[0m\u001b[0;34m]\u001b[0m\u001b[0;34m\u001b[0m\u001b[0;34m\u001b[0m\u001b[0m\n\u001b[0m\u001b[1;32m      6\u001b[0m \u001b[0;34m\u001b[0m\u001b[0m\n\u001b[1;32m      7\u001b[0m \u001b[0;32massert\u001b[0m \u001b[0mnp\u001b[0m\u001b[0;34m.\u001b[0m\u001b[0misfinite\u001b[0m\u001b[0;34m(\u001b[0m\u001b[0mlnl\u001b[0m\u001b[0;34m)\u001b[0m\u001b[0;34m\u001b[0m\u001b[0;34m\u001b[0m\u001b[0m\n",
      "\u001b[0;32m~/Repos/cobaya/cobaya/model.py\u001b[0m in \u001b[0;36mloglikes\u001b[0;34m(self, params_values, return_derived, make_finite, cached, _no_check)\u001b[0m\n\u001b[1;32m    308\u001b[0m \u001b[0;34m\u001b[0m\u001b[0m\n\u001b[1;32m    309\u001b[0m         result = self.logps(input_params, return_derived=return_derived,\n\u001b[0;32m--> 310\u001b[0;31m                             cached=cached, make_finite=make_finite)\n\u001b[0m\u001b[1;32m    311\u001b[0m         \u001b[0;32mif\u001b[0m \u001b[0mreturn_derived\u001b[0m\u001b[0;34m:\u001b[0m\u001b[0;34m\u001b[0m\u001b[0;34m\u001b[0m\u001b[0m\n\u001b[1;32m    312\u001b[0m             \u001b[0mloglikes\u001b[0m\u001b[0;34m,\u001b[0m \u001b[0mderived_list\u001b[0m \u001b[0;34m=\u001b[0m \u001b[0mresult\u001b[0m\u001b[0;34m\u001b[0m\u001b[0;34m\u001b[0m\u001b[0m\n",
      "\u001b[0;32m~/Repos/cobaya/cobaya/model.py\u001b[0m in \u001b[0;36mlogps\u001b[0;34m(self, input_params, return_derived, cached, make_finite)\u001b[0m\n\u001b[1;32m    247\u001b[0m                 \u001b[0mwant_derived\u001b[0m\u001b[0;34m=\u001b[0m\u001b[0mreturn_derived\u001b[0m\u001b[0;34m,\u001b[0m\u001b[0;34m\u001b[0m\u001b[0;34m\u001b[0m\u001b[0m\n\u001b[1;32m    248\u001b[0m                 \u001b[0mdependency_params\u001b[0m\u001b[0;34m=\u001b[0m\u001b[0mdepend_list\u001b[0m\u001b[0;34m,\u001b[0m\u001b[0;34m\u001b[0m\u001b[0;34m\u001b[0m\u001b[0m\n\u001b[0;32m--> 249\u001b[0;31m                 cached=cached, **params)\n\u001b[0m\u001b[1;32m    250\u001b[0m             \u001b[0;32mif\u001b[0m \u001b[0;32mnot\u001b[0m \u001b[0mcompute_success\u001b[0m\u001b[0;34m:\u001b[0m\u001b[0;34m\u001b[0m\u001b[0;34m\u001b[0m\u001b[0m\n\u001b[1;32m    251\u001b[0m                 \u001b[0mloglikes\u001b[0m\u001b[0;34m[\u001b[0m\u001b[0;34m:\u001b[0m\u001b[0;34m]\u001b[0m \u001b[0;34m=\u001b[0m \u001b[0;34m-\u001b[0m\u001b[0mnp\u001b[0m\u001b[0;34m.\u001b[0m\u001b[0minf\u001b[0m\u001b[0;34m\u001b[0m\u001b[0;34m\u001b[0m\u001b[0m\n",
      "\u001b[0;32m~/Repos/cobaya/cobaya/theory.py\u001b[0m in \u001b[0;36mcheck_cache_and_compute\u001b[0;34m(self, dependency_params, want_derived, cached, **params_values_dict)\u001b[0m\n\u001b[1;32m    221\u001b[0m                 \u001b[0mself\u001b[0m\u001b[0;34m.\u001b[0m\u001b[0mtimer\u001b[0m\u001b[0;34m.\u001b[0m\u001b[0mstart\u001b[0m\u001b[0;34m(\u001b[0m\u001b[0;34m)\u001b[0m\u001b[0;34m\u001b[0m\u001b[0;34m\u001b[0m\u001b[0m\n\u001b[1;32m    222\u001b[0m             \u001b[0;32mtry\u001b[0m\u001b[0;34m:\u001b[0m\u001b[0;34m\u001b[0m\u001b[0;34m\u001b[0m\u001b[0m\n\u001b[0;32m--> 223\u001b[0;31m                 \u001b[0;32mif\u001b[0m \u001b[0mself\u001b[0m\u001b[0;34m.\u001b[0m\u001b[0mcalculate\u001b[0m\u001b[0;34m(\u001b[0m\u001b[0mstate\u001b[0m\u001b[0;34m,\u001b[0m \u001b[0mwant_derived\u001b[0m\u001b[0;34m,\u001b[0m \u001b[0;34m**\u001b[0m\u001b[0mparams_values_dict\u001b[0m\u001b[0;34m)\u001b[0m \u001b[0;32mis\u001b[0m \u001b[0;32mFalse\u001b[0m\u001b[0;34m:\u001b[0m\u001b[0;34m\u001b[0m\u001b[0;34m\u001b[0m\u001b[0m\n\u001b[0m\u001b[1;32m    224\u001b[0m                     \u001b[0;32mreturn\u001b[0m \u001b[0;32mFalse\u001b[0m\u001b[0;34m\u001b[0m\u001b[0;34m\u001b[0m\u001b[0m\n\u001b[1;32m    225\u001b[0m             \u001b[0;32mexcept\u001b[0m \u001b[0malways_stop_exceptions\u001b[0m\u001b[0;34m:\u001b[0m\u001b[0;34m\u001b[0m\u001b[0;34m\u001b[0m\u001b[0m\n",
      "\u001b[0;32m~/Repos/cobaya/cobaya/likelihood.py\u001b[0m in \u001b[0;36mcalculate\u001b[0;34m(self, state, want_derived, **params_values_dict)\u001b[0m\n\u001b[1;32m    110\u001b[0m         \u001b[0mderived\u001b[0m \u001b[0;34m=\u001b[0m \u001b[0;34m{\u001b[0m\u001b[0;34m}\u001b[0m \u001b[0;32mif\u001b[0m \u001b[0mwant_derived\u001b[0m \u001b[0;32melse\u001b[0m \u001b[0;32mNone\u001b[0m\u001b[0;34m\u001b[0m\u001b[0;34m\u001b[0m\u001b[0m\n\u001b[1;32m    111\u001b[0m         \u001b[0mstate\u001b[0m\u001b[0;34m[\u001b[0m\u001b[0;34m\"logp\"\u001b[0m\u001b[0;34m]\u001b[0m \u001b[0;34m=\u001b[0m \u001b[0;34m-\u001b[0m\u001b[0mnp\u001b[0m\u001b[0;34m.\u001b[0m\u001b[0minf\u001b[0m  \u001b[0;31m# in case of exception\u001b[0m\u001b[0;34m\u001b[0m\u001b[0;34m\u001b[0m\u001b[0m\n\u001b[0;32m--> 112\u001b[0;31m         \u001b[0mstate\u001b[0m\u001b[0;34m[\u001b[0m\u001b[0;34m\"logp\"\u001b[0m\u001b[0;34m]\u001b[0m \u001b[0;34m=\u001b[0m \u001b[0mself\u001b[0m\u001b[0;34m.\u001b[0m\u001b[0mlogp\u001b[0m\u001b[0;34m(\u001b[0m\u001b[0m_derived\u001b[0m\u001b[0;34m=\u001b[0m\u001b[0mderived\u001b[0m\u001b[0;34m,\u001b[0m \u001b[0;34m**\u001b[0m\u001b[0mparams_values_dict\u001b[0m\u001b[0;34m)\u001b[0m\u001b[0;34m\u001b[0m\u001b[0;34m\u001b[0m\u001b[0m\n\u001b[0m\u001b[1;32m    113\u001b[0m         \u001b[0;32mif\u001b[0m \u001b[0mwant_derived\u001b[0m\u001b[0;34m:\u001b[0m\u001b[0;34m\u001b[0m\u001b[0;34m\u001b[0m\u001b[0m\n\u001b[1;32m    114\u001b[0m             \u001b[0mstate\u001b[0m\u001b[0;34m[\u001b[0m\u001b[0;34m\"derived\"\u001b[0m\u001b[0;34m]\u001b[0m \u001b[0;34m=\u001b[0m \u001b[0mderived\u001b[0m\u001b[0;34m.\u001b[0m\u001b[0mcopy\u001b[0m\u001b[0;34m(\u001b[0m\u001b[0;34m)\u001b[0m\u001b[0;34m\u001b[0m\u001b[0;34m\u001b[0m\u001b[0m\n",
      "\u001b[0;32m~/Repos/Likelihoods/solike/poisson.py\u001b[0m in \u001b[0;36mlogp\u001b[0;34m(self, **params_values)\u001b[0m\n\u001b[1;32m     37\u001b[0m     \u001b[0;32mdef\u001b[0m \u001b[0mlogp\u001b[0m\u001b[0;34m(\u001b[0m\u001b[0mself\u001b[0m\u001b[0;34m,\u001b[0m \u001b[0;34m**\u001b[0m\u001b[0mparams_values\u001b[0m\u001b[0;34m)\u001b[0m\u001b[0;34m:\u001b[0m\u001b[0;34m\u001b[0m\u001b[0;34m\u001b[0m\u001b[0m\n\u001b[1;32m     38\u001b[0m         \u001b[0mrate_fn\u001b[0m \u001b[0;34m=\u001b[0m \u001b[0mself\u001b[0m\u001b[0;34m.\u001b[0m\u001b[0m_get_rate_fn\u001b[0m\u001b[0;34m(\u001b[0m\u001b[0;34m**\u001b[0m\u001b[0mparams_values\u001b[0m\u001b[0;34m)\u001b[0m\u001b[0;34m\u001b[0m\u001b[0;34m\u001b[0m\u001b[0m\n\u001b[0;32m---> 39\u001b[0;31m         \u001b[0mn_expected\u001b[0m \u001b[0;34m=\u001b[0m \u001b[0mself\u001b[0m\u001b[0;34m.\u001b[0m\u001b[0m_get_n_expected\u001b[0m\u001b[0;34m(\u001b[0m\u001b[0;34m**\u001b[0m\u001b[0mparams_values\u001b[0m\u001b[0;34m)\u001b[0m\u001b[0;34m\u001b[0m\u001b[0;34m\u001b[0m\u001b[0m\n\u001b[0m\u001b[1;32m     40\u001b[0m         \u001b[0;32mreturn\u001b[0m \u001b[0mself\u001b[0m\u001b[0;34m.\u001b[0m\u001b[0mdata\u001b[0m\u001b[0;34m.\u001b[0m\u001b[0mloglike\u001b[0m\u001b[0;34m(\u001b[0m\u001b[0mrate_fn\u001b[0m\u001b[0;34m,\u001b[0m \u001b[0mn_expected\u001b[0m\u001b[0;34m)\u001b[0m\u001b[0;34m\u001b[0m\u001b[0;34m\u001b[0m\u001b[0m\n",
      "\u001b[0;32m~/Repos/Likelihoods/solike/clusters/clusters.py\u001b[0m in \u001b[0;36m_get_n_expected\u001b[0;34m(self, **kwargs)\u001b[0m\n\u001b[1;32m    161\u001b[0m \u001b[0;34m\u001b[0m\u001b[0m\n\u001b[1;32m    162\u001b[0m         \u001b[0;32mfor\u001b[0m \u001b[0mYt\u001b[0m\u001b[0;34m,\u001b[0m \u001b[0mfrac\u001b[0m \u001b[0;32min\u001b[0m \u001b[0mzip\u001b[0m\u001b[0;34m(\u001b[0m\u001b[0mself\u001b[0m\u001b[0;34m.\u001b[0m\u001b[0msurvey\u001b[0m\u001b[0;34m.\u001b[0m\u001b[0mYthresh\u001b[0m\u001b[0;34m,\u001b[0m \u001b[0mself\u001b[0m\u001b[0;34m.\u001b[0m\u001b[0msurvey\u001b[0m\u001b[0;34m.\u001b[0m\u001b[0mfrac_of_survey\u001b[0m\u001b[0;34m)\u001b[0m\u001b[0;34m:\u001b[0m\u001b[0;34m\u001b[0m\u001b[0;34m\u001b[0m\u001b[0m\n\u001b[0;32m--> 163\u001b[0;31m             \u001b[0mPfunc\u001b[0m \u001b[0;34m=\u001b[0m \u001b[0mself\u001b[0m\u001b[0;34m.\u001b[0m\u001b[0mszutils\u001b[0m\u001b[0;34m.\u001b[0m\u001b[0mPfuncY\u001b[0m\u001b[0;34m(\u001b[0m\u001b[0mYt\u001b[0m\u001b[0;34m,\u001b[0m \u001b[0mHMF\u001b[0m\u001b[0;34m.\u001b[0m\u001b[0mM\u001b[0m\u001b[0;34m,\u001b[0m \u001b[0mz_arr\u001b[0m\u001b[0;34m,\u001b[0m \u001b[0mparam_vals\u001b[0m\u001b[0;34m,\u001b[0m \u001b[0mEz_fn\u001b[0m\u001b[0;34m,\u001b[0m \u001b[0mDA_fn\u001b[0m\u001b[0;34m)\u001b[0m\u001b[0;34m\u001b[0m\u001b[0;34m\u001b[0m\u001b[0m\n\u001b[0m\u001b[1;32m    164\u001b[0m             \u001b[0mN_z\u001b[0m \u001b[0;34m=\u001b[0m \u001b[0mnp\u001b[0m\u001b[0;34m.\u001b[0m\u001b[0mtrapz\u001b[0m\u001b[0;34m(\u001b[0m\u001b[0mdn_dzdm\u001b[0m \u001b[0;34m*\u001b[0m \u001b[0mPfunc\u001b[0m\u001b[0;34m,\u001b[0m \u001b[0mdx\u001b[0m\u001b[0;34m=\u001b[0m\u001b[0mnp\u001b[0m\u001b[0;34m.\u001b[0m\u001b[0mdiff\u001b[0m\u001b[0;34m(\u001b[0m\u001b[0mHMF\u001b[0m\u001b[0;34m.\u001b[0m\u001b[0mM\u001b[0m\u001b[0;34m[\u001b[0m\u001b[0;34m:\u001b[0m\u001b[0;34m,\u001b[0m \u001b[0;32mNone\u001b[0m\u001b[0;34m]\u001b[0m\u001b[0;34m/\u001b[0m\u001b[0mh\u001b[0m\u001b[0;34m,\u001b[0m \u001b[0maxis\u001b[0m\u001b[0;34m=\u001b[0m\u001b[0;36m0\u001b[0m\u001b[0;34m)\u001b[0m\u001b[0;34m,\u001b[0m \u001b[0maxis\u001b[0m\u001b[0;34m=\u001b[0m\u001b[0;36m0\u001b[0m\u001b[0;34m)\u001b[0m\u001b[0;34m\u001b[0m\u001b[0;34m\u001b[0m\u001b[0m\n\u001b[1;32m    165\u001b[0m             \u001b[0mNtot\u001b[0m \u001b[0;34m+=\u001b[0m \u001b[0mnp\u001b[0m\u001b[0;34m.\u001b[0m\u001b[0mtrapz\u001b[0m\u001b[0;34m(\u001b[0m\u001b[0mN_z\u001b[0m \u001b[0;34m*\u001b[0m \u001b[0mdVdz\u001b[0m\u001b[0;34m,\u001b[0m \u001b[0mx\u001b[0m\u001b[0;34m=\u001b[0m\u001b[0mz_arr\u001b[0m\u001b[0;34m)\u001b[0m \u001b[0;34m*\u001b[0m \u001b[0;36m4.0\u001b[0m \u001b[0;34m*\u001b[0m \u001b[0mnp\u001b[0m\u001b[0;34m.\u001b[0m\u001b[0mpi\u001b[0m \u001b[0;34m*\u001b[0m \u001b[0mself\u001b[0m\u001b[0;34m.\u001b[0m\u001b[0msurvey\u001b[0m\u001b[0;34m.\u001b[0m\u001b[0mfskytotal\u001b[0m \u001b[0;34m*\u001b[0m \u001b[0mfrac\u001b[0m\u001b[0;34m\u001b[0m\u001b[0;34m\u001b[0m\u001b[0m\n",
      "\u001b[0;32m~/Repos/Likelihoods/solike/clusters/sz_utils.py\u001b[0m in \u001b[0;36mPfuncY\u001b[0;34m(self, YNoise, M, z_arr, param_vals, Ez_fn, Da_fn)\u001b[0m\n\u001b[1;32m     98\u001b[0m         \u001b[0mM_arr\u001b[0m \u001b[0;34m=\u001b[0m \u001b[0mnp\u001b[0m\u001b[0;34m.\u001b[0m\u001b[0mouter\u001b[0m\u001b[0;34m(\u001b[0m\u001b[0mM\u001b[0m\u001b[0;34m,\u001b[0m \u001b[0mnp\u001b[0m\u001b[0;34m.\u001b[0m\u001b[0mones\u001b[0m\u001b[0;34m(\u001b[0m\u001b[0;34m[\u001b[0m\u001b[0mlen\u001b[0m\u001b[0;34m(\u001b[0m\u001b[0mz_arr\u001b[0m\u001b[0;34m)\u001b[0m\u001b[0;34m]\u001b[0m\u001b[0;34m)\u001b[0m\u001b[0;34m)\u001b[0m\u001b[0;34m\u001b[0m\u001b[0;34m\u001b[0m\u001b[0m\n\u001b[1;32m     99\u001b[0m \u001b[0;34m\u001b[0m\u001b[0m\n\u001b[0;32m--> 100\u001b[0;31m         \u001b[0mP_func\u001b[0m \u001b[0;34m=\u001b[0m \u001b[0mself\u001b[0m\u001b[0;34m.\u001b[0m\u001b[0mP_of_gt_SN\u001b[0m\u001b[0;34m(\u001b[0m\u001b[0mLgY\u001b[0m\u001b[0;34m,\u001b[0m \u001b[0mM_arr\u001b[0m\u001b[0;34m,\u001b[0m \u001b[0mz_arr\u001b[0m\u001b[0;34m,\u001b[0m \u001b[0mYNoise\u001b[0m\u001b[0;34m,\u001b[0m \u001b[0mparam_vals\u001b[0m\u001b[0;34m,\u001b[0m \u001b[0mEz_fn\u001b[0m\u001b[0;34m,\u001b[0m \u001b[0mDa_fn\u001b[0m\u001b[0;34m)\u001b[0m\u001b[0;34m\u001b[0m\u001b[0;34m\u001b[0m\u001b[0m\n\u001b[0m\u001b[1;32m    101\u001b[0m         \u001b[0;32mreturn\u001b[0m \u001b[0mP_func\u001b[0m\u001b[0;34m\u001b[0m\u001b[0;34m\u001b[0m\u001b[0m\n\u001b[1;32m    102\u001b[0m \u001b[0;34m\u001b[0m\u001b[0m\n",
      "\u001b[0;32m~/Repos/Likelihoods/solike/clusters/sz_utils.py\u001b[0m in \u001b[0;36mP_of_gt_SN\u001b[0;34m(self, LgY, MM, zz, Ynoise, param_vals, Ez_fn, Da_fn)\u001b[0m\n\u001b[1;32m     87\u001b[0m         \u001b[0mLgYa2\u001b[0m \u001b[0;34m=\u001b[0m \u001b[0mnp\u001b[0m\u001b[0;34m.\u001b[0m\u001b[0mreshape\u001b[0m\u001b[0;34m(\u001b[0m\u001b[0mLgYa\u001b[0m\u001b[0;34m,\u001b[0m \u001b[0;34m(\u001b[0m\u001b[0mMM\u001b[0m\u001b[0;34m.\u001b[0m\u001b[0mshape\u001b[0m\u001b[0;34m[\u001b[0m\u001b[0;36m0\u001b[0m\u001b[0;34m]\u001b[0m\u001b[0;34m,\u001b[0m \u001b[0mMM\u001b[0m\u001b[0;34m.\u001b[0m\u001b[0mshape\u001b[0m\u001b[0;34m[\u001b[0m\u001b[0;36m1\u001b[0m\u001b[0;34m]\u001b[0m\u001b[0;34m,\u001b[0m \u001b[0mlen\u001b[0m\u001b[0;34m(\u001b[0m\u001b[0mLgY\u001b[0m\u001b[0;34m)\u001b[0m\u001b[0;34m)\u001b[0m\u001b[0;34m)\u001b[0m\u001b[0;34m\u001b[0m\u001b[0;34m\u001b[0m\u001b[0m\n\u001b[1;32m     88\u001b[0m \u001b[0;34m\u001b[0m\u001b[0m\n\u001b[0;32m---> 89\u001b[0;31m         \u001b[0mP_Y\u001b[0m \u001b[0;34m=\u001b[0m \u001b[0mnp\u001b[0m\u001b[0;34m.\u001b[0m\u001b[0mnan_to_num\u001b[0m\u001b[0;34m(\u001b[0m\u001b[0mself\u001b[0m\u001b[0;34m.\u001b[0m\u001b[0mP_Yo_vec\u001b[0m\u001b[0;34m(\u001b[0m\u001b[0mLgYa2\u001b[0m\u001b[0;34m,\u001b[0m \u001b[0mMM\u001b[0m\u001b[0;34m,\u001b[0m \u001b[0mzz\u001b[0m\u001b[0;34m,\u001b[0m \u001b[0mparam_vals\u001b[0m\u001b[0;34m,\u001b[0m \u001b[0mEz_fn\u001b[0m\u001b[0;34m,\u001b[0m \u001b[0mDa_fn\u001b[0m\u001b[0;34m)\u001b[0m\u001b[0;34m)\u001b[0m\u001b[0;34m\u001b[0m\u001b[0;34m\u001b[0m\u001b[0m\n\u001b[0m\u001b[1;32m     90\u001b[0m \u001b[0;34m\u001b[0m\u001b[0m\n\u001b[1;32m     91\u001b[0m         \u001b[0mans\u001b[0m \u001b[0;34m=\u001b[0m \u001b[0mnp\u001b[0m\u001b[0;34m.\u001b[0m\u001b[0mtrapz\u001b[0m\u001b[0;34m(\u001b[0m\u001b[0mP_Y\u001b[0m \u001b[0;34m*\u001b[0m \u001b[0msig_thresh\u001b[0m\u001b[0;34m,\u001b[0m \u001b[0mx\u001b[0m\u001b[0;34m=\u001b[0m\u001b[0mLgY\u001b[0m\u001b[0;34m,\u001b[0m \u001b[0maxis\u001b[0m\u001b[0;34m=\u001b[0m\u001b[0;36m2\u001b[0m\u001b[0;34m)\u001b[0m \u001b[0;34m*\u001b[0m \u001b[0mnp\u001b[0m\u001b[0;34m.\u001b[0m\u001b[0mlog\u001b[0m\u001b[0;34m(\u001b[0m\u001b[0;36m10\u001b[0m\u001b[0;34m)\u001b[0m\u001b[0;34m\u001b[0m\u001b[0;34m\u001b[0m\u001b[0m\n",
      "\u001b[0;32m~/Repos/Likelihoods/solike/clusters/sz_utils.py\u001b[0m in \u001b[0;36mP_Yo_vec\u001b[0;34m(self, LgY, M, z, param_vals, Ez_fn, Da_fn)\u001b[0m\n\u001b[1;32m     53\u001b[0m \u001b[0;34m\u001b[0m\u001b[0m\n\u001b[1;32m     54\u001b[0m         Ytilde, theta0, Qfilt = y0FromLogM500(\n\u001b[0;32m---> 55\u001b[0;31m             \u001b[0mnp\u001b[0m\u001b[0;34m.\u001b[0m\u001b[0mlog10\u001b[0m\u001b[0;34m(\u001b[0m\u001b[0mparam_vals\u001b[0m\u001b[0;34m[\u001b[0m\u001b[0;34m\"massbias\"\u001b[0m\u001b[0;34m]\u001b[0m \u001b[0;34m*\u001b[0m \u001b[0mM\u001b[0m \u001b[0;34m/\u001b[0m \u001b[0;34m(\u001b[0m\u001b[0mH0\u001b[0m \u001b[0;34m/\u001b[0m \u001b[0;36m100.0\u001b[0m\u001b[0;34m)\u001b[0m\u001b[0;34m)\u001b[0m\u001b[0;34m,\u001b[0m\u001b[0;34m\u001b[0m\u001b[0;34m\u001b[0m\u001b[0m\n\u001b[0m\u001b[1;32m     56\u001b[0m             \u001b[0mz\u001b[0m\u001b[0;34m,\u001b[0m\u001b[0;34m\u001b[0m\u001b[0;34m\u001b[0m\u001b[0m\n\u001b[1;32m     57\u001b[0m             \u001b[0mself\u001b[0m\u001b[0;34m.\u001b[0m\u001b[0mSurvey\u001b[0m\u001b[0;34m.\u001b[0m\u001b[0mQ\u001b[0m\u001b[0;34m,\u001b[0m\u001b[0;34m\u001b[0m\u001b[0;34m\u001b[0m\u001b[0m\n",
      "\u001b[0;31mNameError\u001b[0m: name 'H0' is not defined"
     ]
    }
   ],
   "source": [
    "from cobaya.model import get_model\n",
    "\n",
    "model_fiducial = get_model(info_fiducial)\n",
    "\n",
    "lnl = model_fiducial.loglikes({})[0]\n",
    "\n",
    "assert np.isfinite(lnl)"
   ]
  },
  {
   "cell_type": "code",
   "execution_count": null,
   "metadata": {},
   "outputs": [],
   "source": [
    "blah = model_fiducial._get_HMF()"
   ]
  },
  {
   "cell_type": "code",
   "execution_count": null,
   "metadata": {},
   "outputs": [],
   "source": [
    "3.20111782e+03 "
   ]
  },
  {
   "cell_type": "code",
   "execution_count": null,
   "metadata": {},
   "outputs": [],
   "source": [
    "import numpy as np\n",
    "def to_array(s):\n",
    "    return np.array(s[1:-1].split(),dtype=float)"
   ]
  },
  {
   "cell_type": "code",
   "execution_count": null,
   "metadata": {},
   "outputs": [],
   "source": [
    "cob = to_array('''[1.91779243e+03 2.02043522e+03 2.12855762e+03 2.24244963e+03\n",
    " 2.36241634e+03 2.48877875e+03 2.62187453e+03 2.76205814e+03\n",
    " 2.90970115e+03 3.06519399e+03 3.22894690e+03 3.40139093e+03\n",
    " 3.58297892e+03 3.77418527e+03 3.97550527e+03 4.18745804e+03\n",
    " 4.41058787e+03 4.64546533e+03 4.89268844e+03 5.15288194e+03\n",
    " 5.42669391e+03 5.71480064e+03 6.01790860e+03 6.33675557e+03\n",
    " 6.67211169e+03 7.02477837e+03 7.39558064e+03 7.78537346e+03\n",
    " 8.19504490e+03 8.62551693e+03 9.07774596e+03 9.55272067e+03\n",
    " 1.00514449e+04 1.05749451e+04 1.11242775e+04 1.17005267e+04\n",
    " 1.23048059e+04 1.29382521e+04 1.36019888e+04 1.42971316e+04\n",
    " 1.50248051e+04 1.57861398e+04 1.65822683e+04 1.74143183e+04\n",
    " 1.82833544e+04 1.91903699e+04 2.01363175e+04 2.11221033e+04\n",
    " 2.21485784e+04 2.32165276e+04 2.43266008e+04 2.54792770e+04\n",
    " 2.66749101e+04 2.79137192e+04 2.91957749e+04 3.05209844e+04\n",
    " 3.18890065e+04 3.32991725e+04 3.47505614e+04 3.62419926e+04\n",
    " 3.77720101e+04 3.93388662e+04 4.09403760e+04 4.25738469e+04\n",
    " 4.42362560e+04 4.59240163e+04 4.76331064e+04 4.93588929e+04\n",
    " 5.10982056e+04 5.28417581e+04 5.45838221e+04 5.63176167e+04\n",
    " 5.80352782e+04 5.97262636e+04 6.13841174e+04 6.29975068e+04\n",
    " 6.45553581e+04 6.60468956e+04 6.74577059e+04 6.87752551e+04\n",
    " 6.99847667e+04 7.10720822e+04 7.20214786e+04 7.28172055e+04\n",
    " 7.34432459e+04 7.38835866e+04 7.41227154e+04 7.41457834e+04\n",
    " 7.39392103e+04 7.34913294e+04 7.27928765e+04 7.18378044e+04\n",
    " 7.06240224e+04 6.91542061e+04 6.74366392e+04 6.54858826e+04\n",
    " 6.33234412e+04 6.09780869e+04 5.84858334e+04 5.58895332e+04\n",
    " 5.32378205e+04 5.05840145e+04 4.79630796e+04 4.54224823e+04\n",
    " 4.30385157e+04 4.08557009e+04 3.88968418e+04 3.71592962e+04\n",
    " 3.56181247e+04 3.42350631e+04 3.29663004e+04 3.18098809e+04\n",
    " 3.05843590e+04 2.92501650e+04 2.77064598e+04 2.59132781e+04\n",
    " 2.39074933e+04 2.17954123e+04 1.97133494e+04 1.77946499e+04\n",
    " 1.61557214e+04 1.48721871e+04 1.39382623e+04 1.32485331e+04\n",
    " 1.26198168e+04 1.18527091e+04 1.08509723e+04 9.69437476e+03\n",
    " 8.55992287e+03 7.63650650e+03 7.01472218e+03 6.58542901e+03\n",
    " 6.15596301e+03 5.58909113e+03 4.93536714e+03 4.36863082e+03\n",
    " 3.98167143e+03 3.68399492e+03 3.34031328e+03 2.95568751e+03\n",
    " 2.63780905e+03 2.40219255e+03 2.16883372e+03 1.92501648e+03\n",
    " 1.72420458e+03 1.55354656e+03 1.38366898e+03 1.23456422e+03\n",
    " 1.10486489e+03 9.82938251e+02 8.76280481e+02 7.79834652e+02\n",
    " 6.93233007e+02 6.16067978e+02 5.46779357e+02 4.85137772e+02\n",
    " 4.30017945e+02 3.80822296e+02 3.36995234e+02 2.98014280e+02\n",
    " 2.63374515e+02 2.32611045e+02 2.05306795e+02 1.81088539e+02\n",
    " 1.59624748e+02 1.40617952e+02 1.23800464e+02 1.08931516e+02\n",
    " 9.57944513e+01 8.41952818e+01 7.39606670e+01 6.49358828e+01\n",
    " 5.69829716e+01 4.99789879e+01 4.38144578e+01 3.83919637e+01\n",
    " 3.36248822e+01 2.94363101e+01 2.57580338e+01 2.25295874e+01\n",
    " 1.96974140e+01 1.72141215e+01 1.50378042e+01 1.31314262e+01\n",
    " 1.14622810e+01 1.00015115e+01 8.72367363e+00 7.60634294e+00\n",
    " 6.62977051e+00 5.77657697e+00 5.03147658e+00 4.38103006e+00\n",
    " 3.81343009e+00 3.31831045e+00 2.88657462e+00 2.51024377e+00\n",
    " 2.18232329e+00 1.89668454e+00 1.64795992e+00 1.43144986e+00]''')\n",
    "\n",
    "szr = to_array('''[3.99959066e+02 4.21378684e+02 4.43944152e+02 4.67716481e+02\n",
    " 4.92759892e+02 5.19142053e+02 5.46934224e+02 5.76211346e+02\n",
    " 6.07052230e+02 6.39539788e+02 6.73761212e+02 7.09808222e+02\n",
    " 7.47777240e+02 7.87769667e+02 8.29892034e+02 8.74256282e+02\n",
    " 9.20979975e+02 9.70186506e+02 1.02200542e+03 1.07657251e+03\n",
    " 1.13403026e+03 1.19452802e+03 1.25822238e+03 1.32527715e+03\n",
    " 1.39586363e+03 1.47016101e+03 1.54835636e+03 1.63064521e+03\n",
    " 1.71723131e+03 1.80832725e+03 1.90415433e+03 2.00494291e+03\n",
    " 2.11093202e+03 2.22236882e+03 2.33950982e+03 2.46262043e+03\n",
    " 2.59197553e+03 2.72785797e+03 2.87055917e+03 3.02037819e+03\n",
    " 3.17762108e+03 3.34260128e+03 3.51563765e+03 3.69705536e+03\n",
    " 3.88718255e+03 4.08635126e+03 4.29489467e+03 4.51314609e+03\n",
    " 4.74143838e+03 4.98010073e+03 5.22945874e+03 5.48982857e+03\n",
    " 5.76151810e+03 6.04482211e+03 6.34002097e+03 6.64737481e+03\n",
    " 6.96711777e+03 7.29945766e+03 7.64456484e+03 8.00257470e+03\n",
    " 8.37357443e+03 8.75760361e+03 9.15464354e+03 9.56461105e+03\n",
    " 9.98735657e+03 1.04226508e+04 1.08701852e+04 1.13295465e+04\n",
    " 1.18002235e+04 1.22815761e+04 1.27728351e+04 1.32731059e+04\n",
    " 1.37813561e+04 1.42964163e+04 1.48169507e+04 1.53414691e+04\n",
    " 1.58682528e+04 1.63953844e+04 1.69207645e+04 1.74421085e+04\n",
    " 1.79569088e+04 1.84623275e+04 1.89553252e+04 1.94326115e+04\n",
    " 1.98907127e+04 2.03258626e+04 2.07340482e+04 2.11110486e+04\n",
    " 2.14523661e+04 2.17534120e+04 2.20093514e+04 2.22153670e+04\n",
    " 2.23665450e+04 2.24580787e+04 2.24853736e+04 2.24441070e+04\n",
    " 2.23305342e+04 2.21415541e+04 2.18749713e+04 2.15298022e+04\n",
    " 2.11063629e+04 2.06067485e+04 2.00348197e+04 1.93965339e+04\n",
    " 1.87000904e+04 1.79557425e+04 1.71757830e+04 1.63744588e+04\n",
    " 1.55671968e+04 1.47699834e+04 1.39986753e+04 1.32679402e+04\n",
    " 1.25901552e+04 1.19742686e+04 1.14246773e+04 1.09401262e+04\n",
    " 1.05129124e+04 1.01284973e+04 9.76586715e+03 9.39921540e+03\n",
    " 9.00121925e+03 8.54819731e+03 8.02624443e+03 7.43761673e+03\n",
    " 6.80300629e+03 6.15983533e+03 5.55452066e+03 5.02967760e+03\n",
    " 4.61256052e+03 4.30514229e+03 4.08076831e+03 3.88899397e+03\n",
    " 3.67147400e+03 3.38891165e+03 3.04581748e+03 2.69135197e+03\n",
    " 2.38890399e+03 2.17480928e+03 2.03390299e+03 1.91027950e+03\n",
    " 1.75082800e+03 1.55436243e+03 1.36977916e+03 1.23744874e+03\n",
    " 1.14442938e+03 1.04645567e+03 9.29988839e+02 8.25070490e+02\n",
    " 7.48608344e+02 6.79602744e+02 6.04786010e+02 5.39255810e+02\n",
    " 4.86364586e+02 4.34525924e+02 3.86822224e+02 3.46462947e+02\n",
    " 3.08584183e+02 2.74839080e+02 2.44870862e+02 2.17619114e+02\n",
    " 1.93491423e+02 1.71746051e+02 1.52405141e+02 1.35114082e+02\n",
    " 1.19686669e+02 1.05941447e+02 9.37100091e+01 8.28346085e+01\n",
    " 7.31720589e+01 6.45935622e+01 5.69836560e+01 5.02384125e+01\n",
    " 4.42642726e+01 3.89770959e+01 3.43013447e+01 3.01692810e+01\n",
    " 2.65202037e+01 2.32998216e+01 2.04596366e+01 1.79563649e+01\n",
    " 1.57514191e+01 1.38104293e+01 1.21028025e+01 1.06013436e+01\n",
    " 9.28190080e+00 8.12303818e+00 7.10575194e+00 6.21320868e+00\n",
    " 5.43050691e+00 4.74446732e+00 4.14344229e+00 3.61714382e+00\n",
    " 3.15649242e+00 2.75348061e+00 2.40105002e+00 2.09298374e+00\n",
    " 1.82380905e+00 1.58870882e+00 1.38344832e+00 1.20430917e+00]''')"
   ]
  },
  {
   "cell_type": "code",
   "execution_count": null,
   "metadata": {},
   "outputs": [],
   "source": [
    "import matplotlib.pyplot as plt\n",
    "%matplotlib inline"
   ]
  },
  {
   "cell_type": "code",
   "execution_count": null,
   "metadata": {},
   "outputs": [],
   "source": [
    "k = np.logspace(-4, np.log10(5), 200)\n",
    "plt.loglog(k/0.673,cob*0.673**3,label='cobaya')\n",
    "plt.plot(k,szr,label='szar')\n",
    "plt.legend()\n",
    "\n",
    "plt.figure()\n",
    "plt.semilogx(k,cob*0.673**3/szr)"
   ]
  },
  {
   "cell_type": "code",
   "execution_count": null,
   "metadata": {},
   "outputs": [],
   "source": []
  }
 ],
 "metadata": {
  "kernelspec": {
   "display_name": "Python 3",
   "language": "python",
   "name": "python3"
  },
  "language_info": {
   "codemirror_mode": {
    "name": "ipython",
    "version": 3
   },
   "file_extension": ".py",
   "mimetype": "text/x-python",
   "name": "python",
   "nbconvert_exporter": "python",
   "pygments_lexer": "ipython3",
   "version": "3.7.2"
  }
 },
 "nbformat": 4,
 "nbformat_minor": 2
}
