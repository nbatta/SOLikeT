{
 "cells": [
  {
   "cell_type": "markdown",
   "metadata": {},
   "source": [
    "# Creating a cobaya-compatible likelihood wrapper "
   ]
  },
  {
   "cell_type": "markdown",
   "metadata": {},
   "source": [
    "## Installing cobaya\n",
    "\n",
    "Simply do:\n",
    "\n",
    "    pip install cobaya\n",
    "    \n",
    "and use cobaya to install cosmology modules (CLASS and CAMB, etc.) in `modules_path` (edit the following line appropriately):"
   ]
  },
  {
   "cell_type": "code",
   "execution_count": 1,
   "metadata": {},
   "outputs": [],
   "source": [
    "modules_path = '/Users/verag/Research/cosmology/modules'"
   ]
  },
  {
   "cell_type": "markdown",
   "metadata": {},
   "source": [
    "    cobaya-install cosmo -m <modules_path>\n",
    "    \n",
    "Now you're set, and modules_path is where you can find CLASS, CAMB, and the usual cosmological data (Planck, SNe, BAO, etc). If you run into trouble with this step, refer to [cobaya's readthedocs page](https://cobaya.readthedocs.io/en/latest/index.html).\n",
    "    "
   ]
  },
  {
   "cell_type": "markdown",
   "metadata": {},
   "source": [
    "## Example 1: ACTPol season-2 "
   ]
  },
  {
   "cell_type": "markdown",
   "metadata": {},
   "source": [
    "Begin by cloning the [python wrapper to the ACTPol-season-2 likelihood](https://github.com/ACTCollaboration/actpols2_like_py):\n",
    "\n",
    "    git clone https://github.com/ACTCollaboration/actpols2_like_py"
   ]
  },
  {
   "cell_type": "markdown",
   "metadata": {},
   "source": [
    "and defining a path to it (editing the following line appropriately):"
   ]
  },
  {
   "cell_type": "code",
   "execution_count": 2,
   "metadata": {},
   "outputs": [],
   "source": [
    "act_repo_path = '/Users/verag/Research/Repositories/ACT_public/actpols2_like_py'"
   ]
  },
  {
   "cell_type": "markdown",
   "metadata": {},
   "source": [
    "You're now ready to define an instance of an `ACTPol_s2` object that has a `.loglike` method (returns log-likelihood, given path to ACT data, located in ACT repository):"
   ]
  },
  {
   "cell_type": "code",
   "execution_count": 3,
   "metadata": {},
   "outputs": [],
   "source": [
    "import sys\n",
    "import os\n",
    "\n",
    "sys.path.append(act_repo_path)\n",
    "act_data_path = os.path.join(act_repo_path, 'data')\n",
    "import act_like\n",
    "\n",
    "#choose lmax for this analysis:\n",
    "l_max = 4000\n",
    "\n",
    "act = act_like.ACTPol_s2(act_data_path, tt_lmax=l_max)\n",
    "#NOTE: ACTPol_s2 is the actpol season 2 likelihood."
   ]
  },
  {
   "cell_type": "markdown",
   "metadata": {},
   "source": [
    "Here is the cobaya-compatible wrapper for ACTPol_s2, following the [example](https://cobaya.readthedocs.io/en/latest/cosmo_external_likelihood.html) in the cobaya documentation:"
   ]
  },
  {
   "cell_type": "code",
   "execution_count": 4,
   "metadata": {},
   "outputs": [],
   "source": [
    "def actpols2_like(yp=0.95, _theory={'Cl': {'tt': l_max, 'te': l_max, 'ee': l_max}}, _derived={}):\n",
    "    Cls = _theory.get_cl(ell_factor=True)\n",
    "    return act.loglike(Cls['tt'][2: l_max+1], \n",
    "                       Cls['te'][2: l_max+1], \n",
    "                       Cls['ee'][2: l_max+1], yp)"
   ]
  },
  {
   "cell_type": "markdown",
   "metadata": {},
   "source": [
    "To evaluate this likelihood through cobaya, you need to run cobaya with appropriate input. This is where you tell cobaya to use your ACT wrapper as the likelihood function, and also where you specify all the sampling and fixed parameters. Cobaya takes all this information in the form of a nested dictionary; here is an example:"
   ]
  },
  {
   "cell_type": "code",
   "execution_count": 6,
   "metadata": {},
   "outputs": [],
   "source": [
    "info = {\n",
    "        # 'actpols2' is an arbitrary name; this is where you point to the ACT wrapper.\n",
    "        'likelihood': {'actpols2': actpols2_like},\n",
    "    \n",
    "        # modules_path is where you installed the cobaya modules.\n",
    "        'modules': modules_path,\n",
    "        \n",
    "        # these are cosmological and experimental parameters.\n",
    "        # if prior is specified, parameter is sampled; otherwise, it's fixed.\n",
    "        'params': {'As': {'latex': 'A_s', 'prior': {'max': 4e-09, 'min': 1e-09}},\n",
    "                    'ns': {'latex': 'n_s', 'prior': {'max': 1.1, 'min': 0.9}},\n",
    "                    'H0': 68,\n",
    "                    'mnu': 0.06,\n",
    "                    'nnu': 3.046,\n",
    "                    'num_massive_neutrinos': 1,\n",
    "                    'ombh2': 0.022,\n",
    "                    'omch2': 0.12,\n",
    "                    'tau': 0.07,\n",
    "                    'yp': 0.95},\n",
    "    \n",
    "        # choose the theory code and their parameters: camb or class.\n",
    "        'theory': {'camb': {'stop_at_error': True}},\n",
    "        \n",
    "        # specify the sampler and its parameters, if you want to run chains.\n",
    "        'sampler': {'mcmc': None},\n",
    "    \n",
    "        # this is where the chains would go if you were running a sampler.\n",
    "        'output': 'chains/actpol_s2',\n",
    "       }"
   ]
  },
  {
   "cell_type": "markdown",
   "metadata": {},
   "source": [
    "Initialize an instance of the cobaya [`Model` object](https://cobaya.readthedocs.io/en/latest/cosmo_model.html):"
   ]
  },
  {
   "cell_type": "code",
   "execution_count": 7,
   "metadata": {},
   "outputs": [
    {
     "name": "stdout",
     "output_type": "stream",
     "text": [
      "[model] *WARNING* Ignored blocks/options: ['sampler', 'output']\n",
      "[camb] Importing *local* CAMB from /Users/verag/Research/cosmology/modules/code/CAMB\n"
     ]
    }
   ],
   "source": [
    "from cobaya.model import get_model\n",
    "model = get_model(info)"
   ]
  },
  {
   "cell_type": "markdown",
   "metadata": {},
   "source": [
    "Finally, evaluate the likelihood at an arbitrary point in cosmological parameter space (the arguments must be the same as the sampling parameters defined above):"
   ]
  },
  {
   "cell_type": "code",
   "execution_count": 8,
   "metadata": {},
   "outputs": [
    {
     "data": {
      "text/plain": [
       "(298.12980991354993, [])"
      ]
     },
     "execution_count": 8,
     "metadata": {},
     "output_type": "execute_result"
    }
   ],
   "source": [
    "model.loglike({'As': 3e-9, 'ns':0.96}, cached=False)"
   ]
  },
  {
   "cell_type": "code",
   "execution_count": null,
   "metadata": {},
   "outputs": [],
   "source": []
  }
 ],
 "metadata": {
  "kernelspec": {
   "display_name": "Python 3",
   "language": "python",
   "name": "python3"
  },
  "language_info": {
   "codemirror_mode": {
    "name": "ipython",
    "version": 3
   },
   "file_extension": ".py",
   "mimetype": "text/x-python",
   "name": "python",
   "nbconvert_exporter": "python",
   "pygments_lexer": "ipython3",
   "version": "3.7.3"
  }
 },
 "nbformat": 4,
 "nbformat_minor": 2
}
