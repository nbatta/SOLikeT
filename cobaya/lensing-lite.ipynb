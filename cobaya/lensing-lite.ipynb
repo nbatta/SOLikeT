{
 "cells": [
  {
   "cell_type": "markdown",
   "metadata": {},
   "source": [
    "Sketching outline of \"lite\" lensing likelihood wrapper for Cobaya"
   ]
  },
  {
   "cell_type": "code",
   "execution_count": 1,
   "metadata": {},
   "outputs": [],
   "source": [
    "import numpy as np\n",
    "from scipy.stats import multivariate_normal\n",
    "\n",
    "lmax = 2000\n",
    "\n",
    "data, noise = np.loadtxt('fake_data.txt', unpack=True)\n",
    "noise = np.absolute(noise)\n",
    "ell = np.arange(lmax + 1)\n",
    "cov = np.identity(lmax + 1) * noise \n",
    "# for l in range(lmax - 1):\n",
    "#     cov[l, l + 1] = np.random.randn() * 1e-12\n",
    "cov += np.random.standard_normal(cov.shape) * 1e-11\n",
    "cov = np.absolute(cov)\n",
    "cov = np.dot(cov, cov.transpose())\n",
    "\n",
    "class LensingLiteLikelihood(object):\n",
    "    def __init__(self, data, cov):\n",
    "        self.data = data\n",
    "        self.cov = cov\n",
    "        \n",
    "    def __call__(self, _theory={'Cl': {'tt': lmax, 'pp': lmax}}):\n",
    "        cl = _theory.get_Cl(ell_factor=True)\n",
    "        theory_pp = cl['pp']\n",
    "        return multivariate_normal.logpdf(self.data, mean=theory_pp, cov=self.cov)        \n",
    "    \n",
    "lensing_lite_loglike = LensingLiteLikelihood(data, cov)"
   ]
  },
  {
   "cell_type": "code",
   "execution_count": 2,
   "metadata": {},
   "outputs": [
    {
     "data": {
      "text/plain": [
       "array([[2.05761381e-19, 1.28504594e-19, 1.36883567e-19, ...,\n",
       "        1.28374487e-19, 1.27612598e-19, 1.26725116e-19],\n",
       "       [1.28504594e-19, 1.96736706e-19, 1.45370237e-19, ...,\n",
       "        1.24667514e-19, 1.24044481e-19, 1.21898747e-19],\n",
       "       [1.36883567e-19, 1.45370237e-19, 3.30278226e-17, ...,\n",
       "        1.68904501e-19, 1.50489288e-19, 2.22529087e-19],\n",
       "       ...,\n",
       "       [1.28374487e-19, 1.24667514e-19, 1.68904501e-19, ...,\n",
       "        2.12034237e-19, 1.25132628e-19, 1.24382348e-19],\n",
       "       [1.27612598e-19, 1.24044481e-19, 1.50489288e-19, ...,\n",
       "        1.25132628e-19, 2.03552323e-19, 1.25238969e-19],\n",
       "       [1.26725116e-19, 1.21898747e-19, 2.22529087e-19, ...,\n",
       "        1.24382348e-19, 1.25238969e-19, 2.04771677e-19]])"
      ]
     },
     "execution_count": 2,
     "metadata": {},
     "output_type": "execute_result"
    }
   ],
   "source": [
    "cov"
   ]
  },
  {
   "cell_type": "code",
   "execution_count": 3,
   "metadata": {},
   "outputs": [],
   "source": [
    "from collections import OrderedDict\n",
    "\n",
    "info = {'likelihood': {'lensing_lite': lensing_lite_loglike},\n",
    "        \n",
    "         'params': {#'logA': 3.05,\n",
    "#                     'n_s': 0.965,\n",
    "# #                     'theta_s_1e2': 1.0416,\n",
    "#                     'omega_b': 0.0224,\n",
    "#                     'omega_cdm': 0.12,\n",
    "#                     'tau_reio': 0.055,\n",
    "                   },\n",
    "         'sampler': {'mcmc': {'covmat': 'auto', 'drag': True, 'proposal_scale': 1.9}},\n",
    "         'theory': {'classy': \n",
    "                       {'extra_args': \n",
    "                           {'non linear': 'halofit',\n",
    "                            'N_ncdm': 1,\n",
    "                            'N_ur': 2.0328}}\n",
    "                   }\n",
    "       }\n",
    "        \n",
    "#         OrderedDict([('classy',\n",
    "#                                  OrderedDict([('extra_args',\n",
    "#                                                OrderedDict([('non linear', 'halofit'),\n",
    "#                                                             ('N_ncdm', 1),\n",
    "#                                                             ('N_ur', 2.0328)]))]))])}"
   ]
  },
  {
   "cell_type": "code",
   "execution_count": 4,
   "metadata": {},
   "outputs": [
    {
     "name": "stdout",
     "output_type": "stream",
     "text": [
      "[model] *WARNING* Ignored blocks/options: ['sampler']\n",
      "[prior] *WARNING* No sampled parameters requested! This will fail for non-mock samplers.\n",
      "[lensing_lite] Initialised external likelihood.\n",
      "[classy] Importing *global* CLASS.\n",
      "[likelihood] The theory code will compute the following products, requested by the likelihoods: ['Cl']\n"
     ]
    }
   ],
   "source": [
    "from cobaya.model import get_model\n",
    "model = get_model(info)"
   ]
  },
  {
   "cell_type": "code",
   "execution_count": 5,
   "metadata": {},
   "outputs": [
    {
     "name": "stdout",
     "output_type": "stream",
     "text": [
      "[lensing_lite] *ERROR* ----------------\n",
      "\n",
      "Traceback (most recent call last):\n",
      "  File \"/Users/tmorton/miniconda3/envs/cobaya/lib/python3.7/site-packages/cobaya/likelihood.py\", line 127, in _logp_cached\n",
      "    raise StopIteration\n",
      "StopIteration\n",
      "\n",
      "During handling of the above exception, another exception occurred:\n",
      "\n",
      "Traceback (most recent call last):\n",
      "  File \"/Users/tmorton/miniconda3/envs/cobaya/lib/python3.7/site-packages/cobaya/likelihood.py\", line 250, in logp\n",
      "    return self.external_function(**params_values)\n",
      "  File \"<ipython-input-1-ba60951a77cb>\", line 24, in __call__\n",
      "    return multivariate_normal.logpdf(self.data, mean=theory_pp, cov=self.cov)\n",
      "  File \"/Users/tmorton/miniconda3/envs/cobaya/lib/python3.7/site-packages/scipy/stats/_multivariate.py\", line 495, in logpdf\n",
      "    psd = _PSD(cov, allow_singular=allow_singular)\n",
      "  File \"/Users/tmorton/miniconda3/envs/cobaya/lib/python3.7/site-packages/scipy/stats/_multivariate.py\", line 163, in __init__\n",
      "    raise np.linalg.LinAlgError('singular matrix')\n",
      "numpy.linalg.LinAlgError: singular matrix\n",
      "\n",
      "-------------------------------------\n",
      "[lensing_lite] *ERROR* The external likelihood 'lensing_lite' failed at evaluation. See error info on top of this message.\n"
     ]
    },
    {
     "data": {
      "text/plain": [
       "(-inf, [])"
      ]
     },
     "execution_count": 5,
     "metadata": {},
     "output_type": "execute_result"
    }
   ],
   "source": [
    "model.loglike({}, cached=False)"
   ]
  },
  {
   "cell_type": "code",
   "execution_count": 185,
   "metadata": {},
   "outputs": [
    {
     "data": {
      "text/plain": [
       "(14594.77284991124, [])"
      ]
     },
     "execution_count": 185,
     "metadata": {},
     "output_type": "execute_result"
    }
   ],
   "source": [
    "model.loglike({}, cached=False)"
   ]
  },
  {
   "cell_type": "markdown",
   "metadata": {},
   "source": [
    "(Used the following to generate the above data)"
   ]
  },
  {
   "cell_type": "code",
   "execution_count": 85,
   "metadata": {},
   "outputs": [
    {
     "data": {
      "text/plain": [
       "{'tt': array([   0.        ,    0.        , 1084.35237716, ...,  242.67671493,\n",
       "         242.68888506,  242.70000654]),\n",
       " 'pp': array([0.00000000e+00, 0.00000000e+00, 5.10929891e-08, ...,\n",
       "        1.43821414e-09, 1.43623032e-09, 1.43424925e-09]),\n",
       " 'tp': array([0.00000000e+00, 0.00000000e+00, 3.53828161e+03, ...,\n",
       "        8.79507736e-04, 8.79216129e-04, 8.78868418e-04]),\n",
       " 'ell': array([   0,    1,    2, ..., 1998, 1999, 2000])}"
      ]
     },
     "execution_count": 85,
     "metadata": {},
     "output_type": "execute_result"
    }
   ],
   "source": [
    "cl = model.likelihood.theory.get_Cl(ell_factor=True)\n",
    "cl"
   ]
  },
  {
   "cell_type": "code",
   "execution_count": 103,
   "metadata": {},
   "outputs": [],
   "source": [
    "noise = cl['pp'] * np.random.standard_normal(cl['pp'].shape) * 0.1\n",
    "fake_data = cl['pp'] + noise\n",
    "np.savetxt('fake_data.txt', np.array([fake_data, noise]).T)"
   ]
  },
  {
   "cell_type": "code",
   "execution_count": 100,
   "metadata": {},
   "outputs": [
    {
     "data": {
      "text/plain": [
       "<matplotlib.legend.Legend at 0x7f86f646a950>"
      ]
     },
     "execution_count": 100,
     "metadata": {},
     "output_type": "execute_result"
    },
    {
     "data": {
      "image/png": "[encoded data removed]",
      "text/plain": [
       "<Figure size 432x288 with 1 Axes>"
      ]
     },
     "metadata": {
      "needs_background": "light"
     },
     "output_type": "display_data"
    }
   ],
   "source": [
    "%matplotlib inline\n",
    "import matplotlib.pyplot as plt\n",
    "\n",
    "plt.loglog(cl['ell'], cl['pp'], label='theory')\n",
    "plt.loglog(cl['ell'], fake_data, label='\"data\"')\n",
    "plt.legend()"
   ]
  }
 ],
 "metadata": {
  "kernelspec": {
   "display_name": "Python 3",
   "language": "python",
   "name": "python3"
  },
  "language_info": {
   "codemirror_mode": {
    "name": "ipython",
    "version": 3
   },
   "file_extension": ".py",
   "mimetype": "text/x-python",
   "name": "python",
   "nbconvert_exporter": "python",
   "pygments_lexer": "ipython3",
   "version": "3.7.5"
  }
 },
 "nbformat": 4,
 "nbformat_minor": 4
}
