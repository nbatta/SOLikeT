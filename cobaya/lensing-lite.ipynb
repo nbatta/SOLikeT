{
 "cells": [
  {
   "cell_type": "markdown",
   "metadata": {},
   "source": [
    "Sketching outline of \"lite\" lensing likelihood wrapper for Cobaya"
   ]
  },
  {
   "cell_type": "code",
   "execution_count": 5,
   "metadata": {},
   "outputs": [],
   "source": [
    "from lensing_lite import LensingLiteLikelihood\n",
    "\n",
    "lensing_like = LensingLiteLikelihood()\n",
    "\n",
    "info = {'likelihood': {'lensing_lite': lensing_like},\n",
    "        \n",
    "         'params': {#'logA': 3.05,\n",
    "                    'n_s': 0.965,\n",
    "#                     'theta_s_1e2': 1.0416,\n",
    "                    'omega_b': 0.0224,\n",
    "                    'omega_cdm': 0.12,\n",
    "                    'tau_reio': 0.055,\n",
    "                   },\n",
    "         'sampler': {'mcmc': {'covmat': 'auto', 'drag': True, 'proposal_scale': 1.9}},\n",
    "         'theory': {'classy': \n",
    "                       {'extra_args': \n",
    "                           {'non linear': 'halofit',\n",
    "                            'N_ncdm': 1,\n",
    "                            'N_ur': 2.0328,\n",
    "                            'output': 'tCl'}}\n",
    "                   }\n",
    "       }\n",
    "        "
   ]
  },
  {
   "cell_type": "code",
   "execution_count": 6,
   "metadata": {},
   "outputs": [
    {
     "name": "stdout",
     "output_type": "stream",
     "text": [
      "[model] *WARNING* Ignored blocks/options: ['sampler']\n",
      "[prior] *WARNING* No sampled parameters requested! This will fail for non-mock samplers.\n",
      "[lensing_lite] Initialised external likelihood.\n",
      "[classy] Importing *global* CLASS.\n",
      "[likelihood] The theory code will compute the following products, requested by the likelihoods: ['Cl']\n"
     ]
    }
   ],
   "source": [
    "from cobaya.model import get_model\n",
    "model = get_model(info)"
   ]
  },
  {
   "cell_type": "code",
   "execution_count": 7,
   "metadata": {},
   "outputs": [
    {
     "data": {
      "text/plain": [
       "(-717.9859354017808, [])"
      ]
     },
     "execution_count": 7,
     "metadata": {},
     "output_type": "execute_result"
    }
   ],
   "source": [
    "model.loglike({}, cached=False)"
   ]
  }
 ],
 "metadata": {
  "kernelspec": {
   "display_name": "Python 3",
   "language": "python",
   "name": "python3"
  },
  "language_info": {
   "codemirror_mode": {
    "name": "ipython",
    "version": 3
   },
   "file_extension": ".py",
   "mimetype": "text/x-python",
   "name": "python",
   "nbconvert_exporter": "python",
   "pygments_lexer": "ipython3",
   "version": "3.7.5"
  }
 },
 "nbformat": 4,
 "nbformat_minor": 4
}
