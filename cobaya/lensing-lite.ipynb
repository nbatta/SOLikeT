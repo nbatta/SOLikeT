{
 "cells": [
  {
   "cell_type": "markdown",
   "metadata": {},
   "source": [
    "Sketching outline of \"lite\" lensing likelihood wrapper for Cobaya"
   ]
  },
  {
   "cell_type": "code",
   "execution_count": 1,
   "metadata": {},
   "outputs": [],
   "source": [
    "from lensing_lite import LensingLiteLikelihood\n",
    "\n",
    "lensing_like = LensingLiteLikelihood()\n",
    "\n",
    "info = {'likelihood': {'lensing_lite': lensing_like},\n",
    "        \n",
    "         'params': {'A_s': 2.215e-9,\n",
    "#                     'A_s': {'value': 'lambda A_s: np.log10(10**10 * A_s)',\n",
    "#                              'derived': False,\n",
    "#                              'prior': {'min': 1.7, 'max': 3.9},\n",
    "#                                      'ref' : {'dist': 'norm', \n",
    "#                                               'loc' : 3.098,\n",
    "#                                               'scale': 0.001},\n",
    "#                                      'proposal': 0.001,\n",
    "#                                      'latex': '\\\\log(10^{10} A_\\\\mathrm{s})'},\n",
    "#                     'n_s': 0.965,\n",
    "#                     'theta_s_1e2': 1.0416,\n",
    "#                     'omega_b': 0.0224,\n",
    "                    'omega_cdm': 0.12,\n",
    "#                     'tau_reio': 0.055,\n",
    "                   },\n",
    "         'sampler': {'mcmc': {'covmat': 'auto', 'drag': True, 'proposal_scale': 1.9}},\n",
    "         'theory': {'classy': \n",
    "                       {'extra_args': \n",
    "                           {'non linear': 'halofit',\n",
    "                            'N_ncdm': 1,\n",
    "                            'N_ur': 2.0328,\n",
    "                            'output': 'pCl'}}\n",
    "                   }\n",
    "       }\n",
    "        "
   ]
  },
  {
   "cell_type": "code",
   "execution_count": 2,
   "metadata": {},
   "outputs": [
    {
     "name": "stdout",
     "output_type": "stream",
     "text": [
      "[model] *WARNING* Ignored blocks/options: ['sampler']\n",
      "[prior] *WARNING* No sampled parameters requested! This will fail for non-mock samplers.\n",
      "[lensing_lite] Initialised external likelihood.\n",
      "[classy] Importing *global* CLASS.\n",
      "[likelihood] The theory code will compute the following products, requested by the likelihoods: ['Cl']\n"
     ]
    }
   ],
   "source": [
    "from cobaya.model import get_model\n",
    "model = get_model(info)"
   ]
  },
  {
   "cell_type": "code",
   "execution_count": 3,
   "metadata": {},
   "outputs": [
    {
     "data": {
      "text/plain": [
       "(-701.7601052506207, [])"
      ]
     },
     "execution_count": 3,
     "metadata": {},
     "output_type": "execute_result"
    }
   ],
   "source": [
    "model.loglike({}, cached=False)"
   ]
  },
  {
   "cell_type": "code",
   "execution_count": 41,
   "metadata": {},
   "outputs": [
    {
     "data": {
      "text/plain": [
       "\u001b[0;31mSignature:\u001b[0m \u001b[0mmodel\u001b[0m\u001b[0;34m.\u001b[0m\u001b[0mlikelihood\u001b[0m\u001b[0;34m.\u001b[0m\u001b[0mtheory\u001b[0m\u001b[0;34m.\u001b[0m\u001b[0mtranslate_param\u001b[0m\u001b[0;34m(\u001b[0m\u001b[0mp\u001b[0m\u001b[0;34m,\u001b[0m \u001b[0mforce\u001b[0m\u001b[0;34m=\u001b[0m\u001b[0;32mFalse\u001b[0m\u001b[0;34m)\u001b[0m\u001b[0;34m\u001b[0m\u001b[0;34m\u001b[0m\u001b[0m\n",
       "\u001b[0;31mDocstring:\u001b[0m <no docstring>\n",
       "\u001b[0;31mSource:\u001b[0m   \n",
       "    \u001b[0;32mdef\u001b[0m \u001b[0mtranslate_param\u001b[0m\u001b[0;34m(\u001b[0m\u001b[0mself\u001b[0m\u001b[0;34m,\u001b[0m \u001b[0mp\u001b[0m\u001b[0;34m,\u001b[0m \u001b[0mforce\u001b[0m\u001b[0;34m=\u001b[0m\u001b[0;32mFalse\u001b[0m\u001b[0;34m)\u001b[0m\u001b[0;34m:\u001b[0m\u001b[0;34m\u001b[0m\n",
       "\u001b[0;34m\u001b[0m        \u001b[0;31m# \"force=True\" is used when communicating with likelihoods, which speak \"planck\"\u001b[0m\u001b[0;34m\u001b[0m\n",
       "\u001b[0;34m\u001b[0m        \u001b[0;32mif\u001b[0m \u001b[0mself\u001b[0m\u001b[0;34m.\u001b[0m\u001b[0muse_planck_names\u001b[0m \u001b[0;32mor\u001b[0m \u001b[0mforce\u001b[0m\u001b[0;34m:\u001b[0m\u001b[0;34m\u001b[0m\n",
       "\u001b[0;34m\u001b[0m            \u001b[0;32mreturn\u001b[0m \u001b[0mself\u001b[0m\u001b[0;34m.\u001b[0m\u001b[0mplanck_to_classy\u001b[0m\u001b[0;34m.\u001b[0m\u001b[0mget\u001b[0m\u001b[0;34m(\u001b[0m\u001b[0mp\u001b[0m\u001b[0;34m,\u001b[0m \u001b[0mp\u001b[0m\u001b[0;34m)\u001b[0m\u001b[0;34m\u001b[0m\n",
       "\u001b[0;34m\u001b[0m        \u001b[0;32mreturn\u001b[0m \u001b[0mp\u001b[0m\u001b[0;34m\u001b[0m\u001b[0;34m\u001b[0m\u001b[0m\n",
       "\u001b[0;31mFile:\u001b[0m      ~/miniconda3/envs/cobaya/lib/python3.7/site-packages/cobaya/theories/classy/classy.py\n",
       "\u001b[0;31mType:\u001b[0m      method\n"
      ]
     },
     "metadata": {},
     "output_type": "display_data"
    }
   ],
   "source": [
    "model.likelihood.theory.translate_param??"
   ]
  },
  {
   "cell_type": "code",
   "execution_count": 6,
   "metadata": {},
   "outputs": [
    {
     "name": "stdout",
     "output_type": "stream",
     "text": [
      "1.27 s ± 54 ms per loop (mean ± std. dev. of 7 runs, 1 loop each)\n"
     ]
    }
   ],
   "source": [
    "%timeit model.loglike({}, cached=False)"
   ]
  },
  {
   "cell_type": "code",
   "execution_count": 4,
   "metadata": {},
   "outputs": [],
   "source": [
    "import numpy as np\n",
    "theory_kk = np.array(\"\"\"\n",
    "1.27282502e-07 7.33706920e-08 4.53883593e-08 3.11615262e-08\n",
    " 2.25779046e-08 1.69828218e-08 1.32097183e-08 1.05788888e-08\n",
    " 8.65520010e-09 7.17852544e-09 6.02188421e-09 5.10375090e-09\n",
    " 4.36380512e-09 3.76014484e-09 3.25828374e-09 2.83485997e-09\n",
    " 2.47557638e-09 2.16873855e-09 1.90511922e-09 1.67738411e-09\n",
    " 1.47925419e-09 1.30598938e-09 1.15406405e-09 1.03225449e-09\"\"\".split()).astype(float)"
   ]
  },
  {
   "cell_type": "code",
   "execution_count": 6,
   "metadata": {},
   "outputs": [
    {
     "data": {
      "text/plain": [
       "<matplotlib.legend.Legend at 0x7fd381058a90>"
      ]
     },
     "execution_count": 6,
     "metadata": {},
     "output_type": "execute_result"
    },
    {
     "data": {
      "image/png": "[encoded data removed]",
      "text/plain": [
       "<Figure size 432x288 with 1 Axes>"
      ]
     },
     "metadata": {
      "needs_background": "light"
     },
     "output_type": "display_data"
    }
   ],
   "source": [
    "%matplotlib inline\n",
    "import matplotlib.pyplot as plt\n",
    "import numpy as np\n",
    "\n",
    "plt.errorbar(lensing_like.ell, lensing_like.bandpowers, \n",
    "             np.sqrt(lensing_like.cov.diagonal()), marker='o', ls='none', label='data')\n",
    "plt.xscale('log')\n",
    "plt.yscale('log')\n",
    "\n",
    "plt.loglog(lensing_like.ell, theory_kk, marker='+', ls='none', color='r', label='theory(kk?)')\n",
    "plt.legend()"
   ]
  },
  {
   "cell_type": "code",
   "execution_count": null,
   "metadata": {},
   "outputs": [],
   "source": []
  }
 ],
 "metadata": {
  "kernelspec": {
   "display_name": "Python 3",
   "language": "python",
   "name": "python3"
  },
  "language_info": {
   "codemirror_mode": {
    "name": "ipython",
    "version": 3
   },
   "file_extension": ".py",
   "mimetype": "text/x-python",
   "name": "python",
   "nbconvert_exporter": "python",
   "pygments_lexer": "ipython3",
   "version": "3.7.5"
  }
 },
 "nbformat": 4,
 "nbformat_minor": 4
}
