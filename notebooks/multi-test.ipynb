{
 "cells": [
  {
   "cell_type": "code",
   "execution_count": null,
   "metadata": {},
   "outputs": [],
   "source": [
    "%load_ext lab_black"
   ]
  },
  {
   "cell_type": "code",
   "execution_count": 2,
   "metadata": {},
   "outputs": [],
   "source": [
    "from solike.tests.test_gaussian import toy_data\n",
    "\n",
    "datalist, cross_cov = toy_data()"
   ]
  },
  {
   "cell_type": "code",
   "execution_count": 3,
   "metadata": {},
   "outputs": [],
   "source": [
    "from solike.gaussian import MultiGaussianData\n",
    "\n",
    "multi = MultiGaussianData(datalist, cross_cov)"
   ]
  },
  {
   "cell_type": "code",
   "execution_count": 5,
   "metadata": {},
   "outputs": [
    {
     "data": {
      "text/plain": [
       "'A + B + C'"
      ]
     },
     "execution_count": 5,
     "metadata": {},
     "output_type": "execute_result"
    }
   ],
   "source": [
    "multi.name"
   ]
  },
  {
   "cell_type": "code",
   "execution_count": null,
   "metadata": {},
   "outputs": [],
   "source": []
  },
  {
   "cell_type": "code",
   "execution_count": null,
   "metadata": {},
   "outputs": [],
   "source": []
  },
  {
   "cell_type": "code",
   "execution_count": 7,
   "metadata": {},
   "outputs": [],
   "source": [
    "import numpy as np\n",
    "from scipy.linalg import cholesky, LinAlgError\n",
    "from scipy.stats import multivariate_normal\n",
    "\n",
    "\n",
    "class GaussianData(object):\n",
    "    \"\"\"Named multivariate gaussian data \n",
    "    \n",
    "    For CMB PS data, x will typically be l, and y will be power spectrum.\n",
    "    \"\"\"\n",
    "\n",
    "    def __init__(self, name, x, y, cov):\n",
    "\n",
    "        self.name = str(name)\n",
    "\n",
    "        if not (len(x) == len(y) and cov.shape == (len(x), len(x))):\n",
    "            raise ValueError(\n",
    "                f\"Incompatible shapes! x={x.shape}, y={y.shape}, cov={cov.shape}\"\n",
    "            )\n",
    "\n",
    "        self.x = x\n",
    "        self.y = y\n",
    "        self.cov = cov\n",
    "        try:\n",
    "            self.cholesky = cholesky(cov)\n",
    "        except LinAlgError:\n",
    "            raise ValueError(\"Covariance is not SPD!\")\n",
    "        self.norm = multivariate_normal(self.y, cov=self.cov)\n",
    "\n",
    "    def __len__(self):\n",
    "        return len(self.x)\n",
    "\n",
    "\n",
    "class MultiGaussianData(object):\n",
    "    \"\"\"\n",
    "    \n",
    "    Parameters\n",
    "    ----------\n",
    "    data_list : list\n",
    "        List of Data objects\n",
    "        \n",
    "    cross_covs : dictionary\n",
    "        Cross-covariances, keyed by (name1, name2) tuples.\n",
    "    \"\"\"\n",
    "\n",
    "    def __init__(self, data_list, cross_covs=None):\n",
    "\n",
    "        if cross_covs is None:\n",
    "            cross_covs = {}\n",
    "\n",
    "        # Ensure all cross-covs are proper shape, and fill with zeros if not present\n",
    "        for d1 in data_list:\n",
    "            for d2 in data_list:\n",
    "                key = (d1.name, d2.name)\n",
    "\n",
    "                if d1 == d2:\n",
    "                    cross_covs[key] = d1.cov\n",
    "\n",
    "                rev_key = (d2.name, d1.name)\n",
    "                if key in cross_covs:\n",
    "                    cov = cross_covs[key]\n",
    "                    if not cov.shape == (len(d1), len(d2)):\n",
    "                        raise ValueError(\n",
    "                            f\"Cross-covariance (for {d1.name} x {d2.name}) has wrong shape: {cov.shape}!\"\n",
    "                        )\n",
    "                elif rev_key in cross_covs:\n",
    "                    cross_covs[key] = cross_covs[rev_key].T\n",
    "                else:\n",
    "                    cross_covs[key] = np.zeros((len(d1), len(d2)))\n",
    "\n",
    "        self.data_list = data_list\n",
    "        self.lengths = [len(d) for d in data_list]\n",
    "        self.names = [d.name for d in data_list]\n",
    "        self.cross_covs = cross_covs\n",
    "\n",
    "        self._data = None\n",
    "\n",
    "    @property\n",
    "    def data(self):\n",
    "        if self._data is None:\n",
    "            self._assemble_data()\n",
    "        return self._data\n",
    "\n",
    "    def _index_range(self, name):\n",
    "        if name not in self.names:\n",
    "            raise ValueError(f\"{name} not in {self.names}!\")\n",
    "\n",
    "        i0 = 0\n",
    "        for n, length in zip(self.names, self.lengths):\n",
    "            if n == name:\n",
    "                i1 = i0 + length\n",
    "                break\n",
    "            i0 += length\n",
    "        return i0, i1\n",
    "\n",
    "    def _slice(self, *names):\n",
    "        if isinstance(names, str):\n",
    "            names = [names]\n",
    "\n",
    "        return np.s_[tuple(slice(*multi._index_range(n)) for n in names)]\n",
    "\n",
    "    def _assemble_data(self):\n",
    "        x = np.concatenate([d.x for d in self.data_list])\n",
    "        y = np.concatenate([d.y for d in self.data_list])\n",
    "\n",
    "        N = sum([len(d) for d in self.data_list])\n",
    "\n",
    "        cov = np.zeros((N, N))\n",
    "        for n1 in self.names:\n",
    "            for n2 in self.names:\n",
    "                cov[self._slice(n1, n2)] = self.cross_covs[(n1, n2)]\n",
    "\n",
    "        self._data = Data(\" + \".join(self.names), x, y, cov)"
   ]
  },
  {
   "cell_type": "code",
   "execution_count": 8,
   "metadata": {},
   "outputs": [],
   "source": [
    "from sklearn.datasets import make_spd_matrix\n",
    "\n",
    "name1 = \"A\"\n",
    "n1 = 10\n",
    "x1 = np.arange(n1)\n",
    "y1 = np.random.random(n1)\n",
    "\n",
    "name2 = \"B\"\n",
    "n2 = 20\n",
    "x2 = np.arange(n2)\n",
    "y2 = np.random.random(n2)\n",
    "\n",
    "name3 = \"C\"\n",
    "n3 = 30\n",
    "x3 = np.arange(n3)\n",
    "y3 = np.random.random(n3)\n",
    "\n",
    "# Generate arbitrary covariance matrix, partition into parts\n",
    "full_cov = make_spd_matrix(n1 + n2 + n3, random_state=1234)\n",
    "cov1 = full_cov[:n1, :n1]\n",
    "cov2 = full_cov[n1 : n1 + n2, n1 : n1 + n2]\n",
    "cov3 = full_cov[n1 + n2 :, n1 + n2 :]\n",
    "\n",
    "data1 = GaussianData(name1, x1, y1, cov1)\n",
    "data2 = GaussianData(name2, x2, y2, cov2)\n",
    "data3 = GaussianData(name3, x3, y3, cov3)\n",
    "\n",
    "cross_cov = {\n",
    "    (name1, name2): full_cov[:n1, n1 : n1 + n2],\n",
    "    (name1, name3): full_cov[:n1, n1 + n2 :],\n",
    "    (name2, name3): full_cov[n1 : n1 + n2, n1 + n2 :],\n",
    "}"
   ]
  },
  {
   "cell_type": "code",
   "execution_count": 9,
   "metadata": {},
   "outputs": [],
   "source": [
    "multi = MultiGaussianData([data1, data2, data3], cross_cov)\n",
    "\n",
    "assert (multi.cross_covs[(name1, name2)] == multi.cross_covs[(name2, name1)].T).all()\n",
    "assert (multi.cross_covs[(name1, name3)] == multi.cross_covs[(name3, name1)].T).all()\n",
    "assert (multi.cross_covs[(name2, name3)] == multi.cross_covs[(name3, name2)].T).all()\n",
    "\n",
    "assert (multi.cross_covs[(name1, name1)] == data1.cov).all()\n",
    "assert (multi.cross_covs[(name2, name2)] == data2.cov).all()\n",
    "assert (multi.cross_covs[(name3, name3)] == data3.cov).all()"
   ]
  },
  {
   "cell_type": "code",
   "execution_count": 60,
   "metadata": {},
   "outputs": [
    {
     "data": {
      "text/plain": [
       "(slice(0, 10, None), slice(10, 30, None))"
      ]
     },
     "execution_count": 60,
     "metadata": {},
     "output_type": "execute_result"
    }
   ],
   "source": [
    "multi._slice('A', 'B')"
   ]
  },
  {
   "cell_type": "code",
   "execution_count": 51,
   "metadata": {},
   "outputs": [
    {
     "data": {
      "text/plain": [
       "(slice(10, 30, None), slice(30, 60, None))"
      ]
     },
     "execution_count": 51,
     "metadata": {},
     "output_type": "execute_result"
    }
   ],
   "source": [
    "multi._slice('B', 'C')"
   ]
  },
  {
   "cell_type": "code",
   "execution_count": 15,
   "metadata": {},
   "outputs": [
    {
     "data": {
      "text/plain": [
       "(0, 10)"
      ]
     },
     "execution_count": 15,
     "metadata": {},
     "output_type": "execute_result"
    }
   ],
   "source": [
    "multi._index_range('A')"
   ]
  },
  {
   "cell_type": "code",
   "execution_count": 16,
   "metadata": {},
   "outputs": [
    {
     "data": {
      "text/plain": [
       "(10, 30)"
      ]
     },
     "execution_count": 16,
     "metadata": {},
     "output_type": "execute_result"
    }
   ],
   "source": [
    "multi._index_range('B')"
   ]
  },
  {
   "cell_type": "code",
   "execution_count": 17,
   "metadata": {},
   "outputs": [
    {
     "data": {
      "text/plain": [
       "(30, 60)"
      ]
     },
     "execution_count": 17,
     "metadata": {},
     "output_type": "execute_result"
    }
   ],
   "source": [
    "multi._index_range('C')"
   ]
  },
  {
   "cell_type": "code",
   "execution_count": 30,
   "metadata": {},
   "outputs": [
    {
     "data": {
      "text/plain": [
       "(slice(0, 10, None), slice(10, 30, None))"
      ]
     },
     "execution_count": 30,
     "metadata": {},
     "output_type": "execute_result"
    }
   ],
   "source": [
    "np.s_[(slice(*multi._index_range('A')), slice(*multi._index_range('B')))]"
   ]
  },
  {
   "cell_type": "code",
   "execution_count": 36,
   "metadata": {},
   "outputs": [
    {
     "data": {
      "text/plain": [
       "(slice(0, 10, None), slice(10, 30, None))"
      ]
     },
     "execution_count": 36,
     "metadata": {},
     "output_type": "execute_result"
    }
   ],
   "source": [
    "np.s_[tuple(slice(*multi._index_range(n)) for n in ['A', 'B'])]"
   ]
  },
  {
   "cell_type": "code",
   "execution_count": 36,
   "metadata": {},
   "outputs": [],
   "source": [
    "from scipy.stats import multivariate_normal"
   ]
  },
  {
   "cell_type": "code",
   "execution_count": 38,
   "metadata": {},
   "outputs": [],
   "source": [
    "norm1 = multivariate_normal(y1, cov=cov1)"
   ]
  },
  {
   "cell_type": "code",
   "execution_count": 33,
   "metadata": {},
   "outputs": [
    {
     "data": {
      "text/plain": [
       "dict_keys([('A', 'B'), ('B', 'A')])"
      ]
     },
     "execution_count": 33,
     "metadata": {},
     "output_type": "execute_result"
    }
   ],
   "source": [
    "assert \n",
    "multi.cross_covs.keys()"
   ]
  },
  {
   "cell_type": "code",
   "execution_count": null,
   "metadata": {},
   "outputs": [],
   "source": []
  }
 ],
 "metadata": {
  "kernelspec": {
   "display_name": "Python 3",
   "language": "python",
   "name": "python3"
  },
  "language_info": {
   "codemirror_mode": {
    "name": "ipython",
    "version": 3
   },
   "file_extension": ".py",
   "mimetype": "text/x-python",
   "name": "python",
   "nbconvert_exporter": "python",
   "pygments_lexer": "ipython3",
   "version": "3.7.5"
  }
 },
 "nbformat": 4,
 "nbformat_minor": 4
}
