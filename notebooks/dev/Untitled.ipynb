{
 "cells": [
  {
   "cell_type": "markdown",
   "metadata": {},
   "source": [
    "# **solike**: Likelihoods for SO\n",
    "\n",
    "**solike** is a package containing various **cobaya**-compatible SO likelihoods, as well as some additional architecture to enable the writing of such likelihoods.\n",
    "\n",
    "## GaussianData and GaussianLikelihood\n",
    "\n",
    "Many of the likelihoods we deal with are multidimensional gaussian likelihoods, characterized by a data vector and a covariance.  `GaussianData` is a data structure to package data of this sort.  You provide it a name, $x$ and $y$ data vectors, both of length $N$, and an $N x N$ covariance matrix.   Then given a theory that predicts what values of $y$ should be, you can compute the likelihood, the familiar $\\chi^2$. "
   ]
  },
  {
   "cell_type": "code",
   "execution_count": 8,
   "metadata": {},
   "outputs": [
    {
     "data": {
      "text/plain": [
       "-142.20477147127343"
      ]
     },
     "execution_count": 8,
     "metadata": {},
     "output_type": "execute_result"
    }
   ],
   "source": [
    "import numpy as np\n",
    "\n",
    "from solike.gaussian_data import GaussianData\n",
    "\n",
    "x = np.arange(100)\n",
    "y = np.random.randn(100)\n",
    "cov = np.diag(np.ones(100))\n",
    "\n",
    "data = GaussianData('example', x, y, cov)\n",
    "\n",
    "theory = np.zeros(100)\n",
    "data.loglike(theory)"
   ]
  },
  {
   "cell_type": "markdown",
   "metadata": {},
   "source": [
    "This data structure is used within `GaussianLikelihood`, a **cobaya**-compliant likelihood object.  Because of the way **cobaya** operates---names of likelihoods and options are most easily declared via YAML strings---the parameters needed to initialize and define this likelihood are paths to a saved-on-disk data array and covariance matrix, along with `_get_data()` and `_get_cov()` methods to load and parse them, which happens \n",
    "\n",
    "Like any **cobaya** likelihood, this object also has an `initialize()` method; in this particular base class, it is very simple, just calling `_get_data()` and `get_cov()` to read the data and covariance, and then using those to initialize a `GaussianData` object that becomes `self.data`.  The `logp()` method then takes parameters, passes them to a `_get_theory()` method that returns the theory calculation, which is then passed to `self.data.loglike()`."
   ]
  },
  {
   "cell_type": "markdown",
   "metadata": {},
   "source": [
    "## PSLikelihood\n",
    "\n",
    "This is an example of a useful subclass of `GaussianLikelihood`.  "
   ]
  }
 ],
 "metadata": {
  "kernelspec": {
   "display_name": "Python 3",
   "language": "python",
   "name": "python3"
  },
  "language_info": {
   "codemirror_mode": {
    "name": "ipython",
    "version": 3
   },
   "file_extension": ".py",
   "mimetype": "text/x-python",
   "name": "python",
   "nbconvert_exporter": "python",
   "pygments_lexer": "ipython3",
   "version": "3.7.5"
  }
 },
 "nbformat": 4,
 "nbformat_minor": 4
}
