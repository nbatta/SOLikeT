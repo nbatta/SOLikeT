{
 "cells": [
  {
   "cell_type": "code",
   "execution_count": 4,
   "metadata": {},
   "outputs": [
    {
     "name": "stdout",
     "output_type": "stream",
     "text": [
      "The lab_black extension is already loaded. To reload it, use:\n",
      "  %reload_ext lab_black\n"
     ]
    }
   ],
   "source": [
    "%load_ext lab_black\n",
    "\n",
    "from solike import GaussianLikelihood\n",
    "\n",
    "\n",
    "class MyFirstLikelihood(GaussianLikelihood):\n",
    "    name = \"My first likelihood\"\n",
    "    datapath = \"/path/to/datafile\"  # x, y columns\n",
    "    covpath = \"/path/to/covariance\"  # np.loadtxt()-able\n",
    "\n",
    "    def _get_theory(self, **params_values):\n",
    "        \"\"\"Returns theory of same shape as data, given params\n",
    "        \n",
    "        This could be literally anything.  Doesn't have to be cosmology.\n",
    "        \"\"\"\n",
    "        ...\n",
    "        return theory_y\n",
    "\n",
    "class MyNextLikelihood(GaussianLikelihood):\n",
    "    name = \"My next likelihood\"\n",
    "\n",
    "    something = ...\n",
    "    something_else = ...\n",
    "\n",
    "    def _get_data(self):\n",
    "        ...  # maybe use self.something?\n",
    "        return x, y\n",
    "\n",
    "    def _get_cov(self):\n",
    "        ...  # use self.something_else?\n",
    "        return cov\n",
    "\n",
    "    def _get_theory(self, **params_values):\n",
    "        \"\"\"Returns theory of same shape as data, given params\n",
    "        \n",
    "        This could be literally anything.  Doesn't have to be cosmology.\n",
    "        \"\"\"\n",
    "\n",
    "\n",
    "class MyCosmoLikelihood(GaussianLikelihood):\n",
    "    name = \"My cosmological likelihood\"\n",
    "    stuff = ...\n",
    "\n",
    "    def initialize(self):\n",
    "        \"\"\"Set stuff up here that doesn't change \n",
    "        \"\"\"\n",
    "        ...\n",
    "        super().initialize()  # don't forget this\n",
    "\n",
    "    def get_requirements(self):\n",
    "        return {\"Cl\": {\"tt\": 2000}}  # e.g.\n",
    "\n",
    "    def _get_data(self):\n",
    "        ...\n",
    "        return ell, power_spectrum  # e.g.\n",
    "\n",
    "    def _get_cov(self):\n",
    "        ...\n",
    "        return cov\n",
    "\n",
    "    def _get_theory():\n",
    "        cl_dict = self.theory.get_Cl(ell_factor=True)\n",
    "        cl_theory = cl_dict[\"tt\"]\n",
    "        ...\n",
    "        return cl_theory"
   ]
  },
  {
   "cell_type": "code",
   "execution_count": null,
   "metadata": {},
   "outputs": [],
   "source": [
    "class GaussianLikelihood(Likelihood):\n",
    "\n",
    "    class_options = {\n",
    "        \"name\": \"Gaussian\",\n",
    "        \"datapath\": None,\n",
    "        \"covpath\": None,\n",
    "    }\n",
    "\n",
    "    def initialize(self):\n",
    "        x, y = self._get_data()\n",
    "        cov = self._get_cov()\n",
    "        self.data = GaussianData(self.name, x, y, cov)\n",
    "\n",
    "    def _get_data(self):\n",
    "        x, y = np.loadtxt(self.datapath, unpack=True)\n",
    "        return x, y\n",
    "\n",
    "    def _get_cov(self):\n",
    "        cov = np.loadtxt(self.covpath)\n",
    "        return cov\n",
    "\n",
    "    def _get_theory(self, **kwargs):\n",
    "        raise NotImplementedError\n",
    "\n",
    "    def logp(self, **params_values):\n",
    "        theory = self._get_theory(**params_values)\n",
    "        return self.data.loglike(theory)"
   ]
  },
  {
   "cell_type": "code",
   "execution_count": null,
   "metadata": {},
   "outputs": [],
   "source": []
  },
  {
   "cell_type": "code",
   "execution_count": null,
   "metadata": {},
   "outputs": [],
   "source": []
  },
  {
   "cell_type": "code",
   "execution_count": null,
   "metadata": {},
   "outputs": [],
   "source": []
  },
  {
   "cell_type": "code",
   "execution_count": null,
   "metadata": {},
   "outputs": [],
   "source": []
  },
  {
   "cell_type": "code",
   "execution_count": null,
   "metadata": {},
   "outputs": [],
   "source": []
  },
  {
   "cell_type": "code",
   "execution_count": 1,
   "metadata": {},
   "outputs": [],
   "source": [
    "import numpy as np\n",
    "def to_array(s):\n",
    "    return np.array(s[1:-1].split(), dtype=float)"
   ]
  },
  {
   "cell_type": "code",
   "execution_count": null,
   "metadata": {},
   "outputs": [],
   "source": [
    "s = "
   ]
  }
 ],
 "metadata": {
  "kernelspec": {
   "display_name": "Python 3",
   "language": "python",
   "name": "python3"
  },
  "language_info": {
   "codemirror_mode": {
    "name": "ipython",
    "version": 3
   },
   "file_extension": ".py",
   "mimetype": "text/x-python",
   "name": "python",
   "nbconvert_exporter": "python",
   "pygments_lexer": "ipython3",
   "version": "3.7.5"
  }
 },
 "nbformat": 4,
 "nbformat_minor": 4
}
