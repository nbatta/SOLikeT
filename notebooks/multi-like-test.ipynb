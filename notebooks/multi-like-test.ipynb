{
 "cells": [
  {
   "cell_type": "code",
   "execution_count": 1,
   "metadata": {},
   "outputs": [],
   "source": [
    "%load_ext lab_black\n",
    "\n",
    "import numpy as np\n",
    "from sklearn.datasets import make_spd_matrix\n",
    "from scipy.stats import multivariate_normal\n",
    "\n",
    "from solike.gaussian import GaussianData\n",
    "from solike import GaussianLikelihood, MultiGaussianLikelihood\n",
    "from solike import PSLikelihood\n",
    "\n",
    "\n",
    "class ToyLikelihood(PSLikelihood):\n",
    "    class_options = {\n",
    "        \"name\": \"toy\",\n",
    "        \"n\": 10,\n",
    "        \"sigma\": 1,\n",
    "        \"off_diag_amp\": 1e-3,\n",
    "        \"cov\": None,\n",
    "    }\n",
    "\n",
    "    def initialize(self):\n",
    "        x = np.arange(self.n)\n",
    "        if self.cov is None:\n",
    "            cov = make_spd_matrix(self.n) * self.off_diag_amp\n",
    "            cov += np.diag(np.ones(self.n) * self.sigma ** 2)\n",
    "        else:\n",
    "            cov = self.cov\n",
    "\n",
    "        y = np.random.multivariate_normal(np.zeros(self.n), cov)\n",
    "        self.data = GaussianData(self.name, x, y, cov)\n",
    "\n",
    "    def _get_theory(self):\n",
    "        return np.zeros(self.n)"
   ]
  },
  {
   "cell_type": "code",
   "execution_count": 21,
   "metadata": {},
   "outputs": [],
   "source": [
    "n1, n2, n3 = [10, 20, 30]\n",
    "full_cov = make_spd_matrix(n1 + n2 + n3, random_state=1234) * 1e-1\n",
    "full_cov += np.diag(np.ones((n1 + n2 + n3)))\n",
    "\n",
    "cov1 = full_cov[:n1, :n1]\n",
    "cov2 = full_cov[n1 : n1 + n2, n1 : n1 + n2]\n",
    "cov3 = full_cov[n1 + n2 :, n1 + n2 :]\n",
    "\n",
    "name1, name2, name3 = [\"A\", \"B\", \"C\"]\n",
    "\n",
    "cross_cov = {\n",
    "    (name1, name2): full_cov[:n1, n1 : n1 + n2],\n",
    "    (name1, name3): full_cov[:n1, n1 + n2 :],\n",
    "    (name2, name3): full_cov[n1 : n1 + n2, n1 + n2 :],\n",
    "}\n",
    "\n",
    "\n",
    "info1 = {\"name\": name1, \"n\": n1, \"cov\": cov1}\n",
    "like1 = ToyLikelihood(info1)\n",
    "\n",
    "info2 = {\"name\": name2, \"n\": n2, \"cov\": cov2}\n",
    "like2 = ToyLikelihood(info2)\n",
    "\n",
    "info3 = {\"name\": name3, \"n\": n3, \"cov\": cov3}\n",
    "like3 = ToyLikelihood(info3)"
   ]
  },
  {
   "cell_type": "code",
   "execution_count": 22,
   "metadata": {},
   "outputs": [
    {
     "data": {
      "text/plain": [
       "(-16.403838783858024, -27.199261558375216, -39.864696521759164)"
      ]
     },
     "execution_count": 22,
     "metadata": {},
     "output_type": "execute_result"
    }
   ],
   "source": [
    "like1.logp(), like2.logp(), like3.logp()"
   ]
  },
  {
   "cell_type": "code",
   "execution_count": 23,
   "metadata": {},
   "outputs": [],
   "source": [
    "multilike = MultiGaussianLikelihood([like1, like2, like3], cross_cov)"
   ]
  },
  {
   "cell_type": "code",
   "execution_count": 24,
   "metadata": {},
   "outputs": [
    {
     "data": {
      "text/plain": [
       "-84.04887803082417"
      ]
     },
     "execution_count": 24,
     "metadata": {},
     "output_type": "execute_result"
    }
   ],
   "source": [
    "multilike.logp()"
   ]
  },
  {
   "cell_type": "code",
   "execution_count": 25,
   "metadata": {},
   "outputs": [
    {
     "data": {
      "text/plain": [
       "-83.4677968639924"
      ]
     },
     "execution_count": 25,
     "metadata": {},
     "output_type": "execute_result"
    }
   ],
   "source": [
    "sum([l.logp() for l in [like1, like2, like3]])"
   ]
  },
  {
   "cell_type": "code",
   "execution_count": 11,
   "metadata": {},
   "outputs": [
    {
     "data": {
      "text/plain": [
       "-17.857919535814542"
      ]
     },
     "execution_count": 11,
     "metadata": {},
     "output_type": "execute_result"
    }
   ],
   "source": [
    "like1.logp()"
   ]
  },
  {
   "cell_type": "code",
   "execution_count": 14,
   "metadata": {},
   "outputs": [
    {
     "data": {
      "text/plain": [
       "-17.857919535814542"
      ]
     },
     "execution_count": 14,
     "metadata": {},
     "output_type": "execute_result"
    }
   ],
   "source": [
    "like1.data.norm.logpdf(np.zeros(like1.n))"
   ]
  },
  {
   "cell_type": "code",
   "execution_count": 5,
   "metadata": {},
   "outputs": [
    {
     "data": {
      "text/plain": [
       "array([[0, 0, 0, 0, 0, 0, 0, 0, 0, 0],\n",
       "       [0, 1, 0, 0, 0, 0, 0, 0, 0, 0],\n",
       "       [0, 0, 2, 0, 0, 0, 0, 0, 0, 0],\n",
       "       [0, 0, 0, 3, 0, 0, 0, 0, 0, 0],\n",
       "       [0, 0, 0, 0, 4, 0, 0, 0, 0, 0],\n",
       "       [0, 0, 0, 0, 0, 5, 0, 0, 0, 0],\n",
       "       [0, 0, 0, 0, 0, 0, 6, 0, 0, 0],\n",
       "       [0, 0, 0, 0, 0, 0, 0, 7, 0, 0],\n",
       "       [0, 0, 0, 0, 0, 0, 0, 0, 8, 0],\n",
       "       [0, 0, 0, 0, 0, 0, 0, 0, 0, 9]])"
      ]
     },
     "execution_count": 5,
     "metadata": {},
     "output_type": "execute_result"
    }
   ],
   "source": [
    "np.diag(np.arange(10))"
   ]
  },
  {
   "cell_type": "code",
   "execution_count": null,
   "metadata": {},
   "outputs": [],
   "source": []
  }
 ],
 "metadata": {
  "kernelspec": {
   "display_name": "Python 3",
   "language": "python",
   "name": "python3"
  },
  "language_info": {
   "codemirror_mode": {
    "name": "ipython",
    "version": 3
   },
   "file_extension": ".py",
   "mimetype": "text/x-python",
   "name": "python",
   "nbconvert_exporter": "python",
   "pygments_lexer": "ipython3",
   "version": "3.7.5"
  }
 },
 "nbformat": 4,
 "nbformat_minor": 4
}
